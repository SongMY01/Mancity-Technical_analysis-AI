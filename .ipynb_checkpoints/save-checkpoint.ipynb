{
 "cells": [
  {
   "cell_type": "code",
   "execution_count": 10,
   "id": "eccfddbf-18b8-4da4-b0c9-3482e16dcde0",
   "metadata": {},
   "outputs": [
    {
     "name": "stdout",
     "output_type": "stream",
     "text": [
      "✅ 모든 CSV 데이터를 하나의 ChromaDB에 저장 완료!\n"
     ]
    }
   ],
   "source": [
    "import pandas as pd\n",
    "from langchain.docstore.document import Document\n",
    "from langchain_text_splitters import RecursiveCharacterTextSplitter\n",
    "from langchain_openai import OpenAIEmbeddings\n",
    "from langchain.vectorstores import Chroma\n",
    "\n",
    "# 📌 저장할 디렉토리 (공통으로 사용)\n",
    "persist_directory = \"./chroma_db_10\"\n",
    "\n",
    "# 📌 OpenAI 임베딩 모델\n",
    "embedding_model = OpenAIEmbeddings(model=\"text-embedding-3-large\")\n",
    "\n",
    "# 📌 ChromaDB 초기화 (이미 있는 경우 로드, 없으면 생성)\n",
    "db = Chroma(persist_directory=persist_directory, embedding_function=embedding_model)\n",
    "\n",
    "# 📌 처리할 CSV 파일 리스트\n",
    "csv_files = [\n",
    "    \"./data/mancity_goalkeeping.csv\",\n",
    "    \"./data/mancity_passing.csv\",\n",
    "    \"./data/mancity_shooting.csv\",\n",
    "    \"./data/mancity_pass_types.csv\",\n",
    "    \"./data/mancity_scores_fixtures.csv\",\n",
    "    \"./data/Advanced Goalkeeping.csv\",\n",
    "    \"./data/Defensive Actions.csv\",\n",
    "    \"./data/Goal and Shot Creation.csv\",\n",
    "    \"./data/Goalkeeper_summary.csv\",\n",
    "    \"./data/Goalkeeping.csv\",\n",
    "    \"./data/Miscellaneous_Stats.csv\",\n",
    "    \"./data/Pass Types.csv\",\n",
    "    \"./data/Passing.csv\",\n",
    "    \"./data/Player_summary.csv\",\n",
    "    \"./data/Playing_Time.csv\",\n",
    "    \"./data/Possetion.csv\",\n",
    "    \"./data/Shooting.csv\",\n",
    "    \"./data/Standard Stats.csv\",\n",
    "    \"./data/mancity_defensive_actions.csv\",\n",
    "    \"./data/mancity_goal_and_shot_creation.csv\",\n",
    "    \"./data/mancity_goal_logs.csv\",\n",
    "    \"./data/mancity_miscellaneous_stats.csv\",\n",
    "    \"./data/mancity_player_wages.csv\",\n",
    "    \"./data/mancity_possession.csv\"\n",
    "]\n",
    "\n",
    "\n",
    "\n",
    "# 📌 각 CSV 파일을 로드하여 벡터DB에 추가\n",
    "for file in csv_files:\n",
    "    df = pd.read_csv(file)\n",
    "\n",
    "    # 각 행(row)을 Document 객체로 변환\n",
    "    documents = [\n",
    "        Document(\n",
    "            page_content=row.to_json(),  # 전체 row를 JSON 문자열로 저장\n",
    "            metadata={\"source\": file, \"row_index\": i}  # 메타데이터 추가\n",
    "        )\n",
    "        for i, row in df.iterrows()\n",
    "    ]\n",
    "\n",
    "    # 텍스트 분할 (필요한 경우 사용)\n",
    "    text_splitter = RecursiveCharacterTextSplitter(chunk_size=500, chunk_overlap=100)\n",
    "    split_docs = text_splitter.split_documents(documents)\n",
    "\n",
    "    # 📌 기존 DB에 추가 (from_documents 대신 add_documents 사용)\n",
    "    db.add_documents(split_docs)\n",
    "\n",
    "print(\"✅ 모든 CSV 데이터를 하나의 ChromaDB에 저장 완료!\")\n"
   ]
  },
  {
   "cell_type": "code",
   "execution_count": null,
   "id": "8cc3e50b-c9c4-4588-bd0c-f747904d81a3",
   "metadata": {},
   "outputs": [],
   "source": []
  }
 ],
 "metadata": {
  "kernelspec": {
   "display_name": "Python 3 (ipykernel)",
   "language": "python",
   "name": "python3"
  },
  "language_info": {
   "codemirror_mode": {
    "name": "ipython",
    "version": 3
   },
   "file_extension": ".py",
   "mimetype": "text/x-python",
   "name": "python",
   "nbconvert_exporter": "python",
   "pygments_lexer": "ipython3",
   "version": "3.12.9"
  }
 },
 "nbformat": 4,
 "nbformat_minor": 5
}
